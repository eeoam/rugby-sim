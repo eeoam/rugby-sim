{
 "cells": [
  {
   "cell_type": "code",
   "execution_count": 1,
   "id": "342d4a8d",
   "metadata": {},
   "outputs": [],
   "source": [
    ":ext QuasiQuotes"
   ]
  },
  {
   "cell_type": "code",
   "execution_count": 2,
   "id": "4b3ba4a8",
   "metadata": {},
   "outputs": [
    {
     "data": {
      "text/plain": []
     },
     "metadata": {},
     "output_type": "display_data"
    }
   ],
   "source": [
    "import qualified H.Prelude as H\n",
    "H.initialize H.defaultConfig"
   ]
  },
  {
   "cell_type": "code",
   "execution_count": 13,
   "id": "49476b8c",
   "metadata": {},
   "outputs": [
    {
     "data": {
      "text/plain": [
       "0x00007f4979092858"
      ]
     },
     "metadata": {},
     "output_type": "display_data"
    }
   ],
   "source": [
    "[r|\n",
    "matches <<- read.csv(\"data/sn_matches_2023.csv\")\n",
    "|]"
   ]
  },
  {
   "cell_type": "code",
   "execution_count": null,
   "id": "ff67375e",
   "metadata": {},
   "outputs": [
    {
     "data": {
      "text/plain": [
       "   Match Round Home_Team Away_Team Home_Score Away_Score Diff Home_Win Away_Win\n",
       "1      1     1     Wales   Ireland         10         34   24        0        1\n",
       "2      2     1   England  Scotland         23         29    6        0        1\n",
       "3      3     1     Italy    France         24         29    5        0        1\n",
       "4      4     2   Ireland    France         32         19   13        1        0\n",
       "5      5     2  Scotland     Wales         35          7   28        1        0\n",
       "6      6     2   England     Italy         31         14   17        1        0\n",
       "7      7     3     Italy   Ireland         20         34   14        0        1\n",
       "8      8     3     Wales   England         10         20   10        0        1\n",
       "9      9     3    France  Scotland         32         21   11        1        0\n",
       "10    10     4     Italy     Wales         17         29   12        0        1\n",
       "11    11     4   England    France         10         53   43        0        1\n",
       "12    12     4  Scotland   Ireland          7         22   15        0        1\n",
       "13    13     5  Scotland     Italy         29         14   15        1        0\n",
       "14    14     5    France     Wales         41         28   13        1        0\n",
       "15    15     5   Ireland   England         29         19   10        1        0\n",
       "   Draw Home_Country Away_Country\n",
       "1     0        Wales      Ireland\n",
       "2     0      England     Scotland\n",
       "3     0        Italy       France\n",
       "4     0      Ireland       France\n",
       "5     0     Scotland        Wales\n",
       "6     0      England        Italy\n",
       "7     0        Italy      Ireland\n",
       "8     0        Wales      England\n",
       "9     0       France     Scotland\n",
       "10    0        Italy        Wales\n",
       "11    0      England       France\n",
       "12    0     Scotland      Ireland\n",
       "13    0     Scotland        Italy\n",
       "14    0       France        Wales\n",
       "15    0      Ireland      England"
      ]
     },
     "metadata": {},
     "output_type": "display_data"
    }
   ],
   "source": [
    "[rprint|matches|]"
   ]
  },
  {
   "cell_type": "code",
   "execution_count": null,
   "id": "4e892387",
   "metadata": {},
   "outputs": [],
   "source": []
  }
 ],
 "metadata": {
  "kernelspec": {
   "display_name": "Haskell",
   "language": "haskell",
   "name": "haskell"
  },
  "language_info": {
   "codemirror_mode": "ihaskell",
   "file_extension": ".hs",
   "mimetype": "text/x-haskell",
   "name": "haskell",
   "pygments_lexer": "Haskell",
   "version": "9.2.5"
  }
 },
 "nbformat": 4,
 "nbformat_minor": 5
}
