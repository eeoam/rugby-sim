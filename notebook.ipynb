{
 "cells": [
  {
   "cell_type": "code",
   "execution_count": 1,
   "id": "a464f30a",
   "metadata": {},
   "outputs": [],
   "source": [
    ":ext QuasiQuotes"
   ]
  },
  {
   "cell_type": "code",
   "execution_count": 2,
   "id": "7adf23c8",
   "metadata": {},
   "outputs": [
    {
     "data": {
      "text/plain": []
     },
     "metadata": {},
     "output_type": "display_data"
    }
   ],
   "source": [
    "import qualified H.Prelude as H\n",
    "H.initialize H.defaultConfig"
   ]
  },
  {
   "cell_type": "code",
   "execution_count": 13,
   "id": "26dae52d",
   "metadata": {},
   "outputs": [
    {
     "data": {
      "text/plain": [
       "0x00007f4979092858"
      ]
     },
     "metadata": {},
     "output_type": "display_data"
    }
   ],
   "source": [
    "[r|\n",
    "matches <<- read.csv(\"data/sn_matches_2023.csv\")\n",
    "|]"
   ]
  },
  {
   "cell_type": "code",
   "execution_count": null,
   "id": "cb43aeea",
   "metadata": {},
   "outputs": [],
   "source": [
    "[rprint|matches|]"
   ]
  },
  {
   "cell_type": "code",
   "execution_count": null,
   "id": "69c82c8a",
   "metadata": {},
   "outputs": [],
   "source": []
  }
 ],
 "metadata": {
  "kernelspec": {
   "display_name": "Haskell",
   "language": "haskell",
   "name": "haskell"
  },
  "language_info": {
   "codemirror_mode": "ihaskell",
   "file_extension": ".hs",
   "mimetype": "text/x-haskell",
   "name": "haskell",
   "pygments_lexer": "Haskell",
   "version": "9.2.5"
  }
 },
 "nbformat": 4,
 "nbformat_minor": 5
}
